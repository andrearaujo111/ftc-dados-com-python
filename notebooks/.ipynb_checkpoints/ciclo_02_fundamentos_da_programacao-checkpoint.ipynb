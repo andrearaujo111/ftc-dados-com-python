{
 "cells": [
  {
   "cell_type": "markdown",
   "id": "c1ef9be2",
   "metadata": {},
   "source": [
    "# 0 Notes"
   ]
  },
  {
   "cell_type": "markdown",
   "id": "20499269",
   "metadata": {},
   "source": [
    "**Análise**\n",
    "- Teremos 7 dias com descontos progressivos, onde no primeiro dia, o desconto base é 10% e no último dia o desconto base é 70%\n",
    "- Esse desconto base vai valer todos os dias, independente do número de vendas\n",
    "- Porém, esse desconto vai começar a crescer caso o número de pedidos ultrapasse um baseline. Esse baseline é 1k para o primeiro dia, e vai crescendo de mil em mil ao longo dos dias, até chegar em 7k no último dia. \n",
    "- A partir dessas quantidades bases de pedidos, a cada 100 novos pedidos, serão acrescidos 1% no desconto base diariamente\n",
    "\n",
    "**Implicações**\n",
    "- Não tem limite de desconto\n",
    "- Receberemos uma previsão de pedidos do time de dados, por cada dia de promoção\n",
    "- Devemos projetar o total de desconto máximo aplicado naquele dia e o desconto médio\n",
    "\n",
    "**Processo**\n",
    "1. Vamos criar um iterador, que vai receber inicialmente o valor 1000 e 10%, em duas variáveis. Esse iterador vai ser comparado com a coluna de previsão de pedidos, onde, caso ele seja menor ou igual, ele vai receber o valor dentro do iterador de desconto. \n",
    "2. Caso ele seja maior, vamos isolar em uma variável o valor da projeção - valor base. Depois, vamos dividir o valor dentro dessa variável por 100 e vamos arredondar para baixo. Com isso, teremos o valor em acréscimo. Depois, vamos dividir somar esse valor com o valor de desconto base e vamos salvar na linha que representa a quantidade de dias.\n",
    "3. Para cada iteração, vamos somar 10% na variável desconto e 1000 na variável e ir repetindo o processo."
   ]
  },
  {
   "cell_type": "markdown",
   "id": "c51e8d29",
   "metadata": {},
   "source": [
    "# 1. Imports"
   ]
  },
  {
   "cell_type": "code",
   "execution_count": 3,
   "id": "80f9f2b5",
   "metadata": {
    "ExecuteTime": {
     "end_time": "2023-02-16T04:16:53.625193Z",
     "start_time": "2023-02-16T04:16:52.916154Z"
    }
   },
   "outputs": [],
   "source": [
    "import pandas as pd"
   ]
  },
  {
   "cell_type": "markdown",
   "id": "9e973515",
   "metadata": {},
   "source": [
    "# 2. Problem Solving "
   ]
  },
  {
   "cell_type": "code",
   "execution_count": 10,
   "id": "90332557",
   "metadata": {
    "ExecuteTime": {
     "end_time": "2023-02-16T04:19:29.788956Z",
     "start_time": "2023-02-16T04:19:29.759945Z"
    }
   },
   "outputs": [
    {
     "data": {
      "text/html": [
       "<div>\n",
       "<style scoped>\n",
       "    .dataframe tbody tr th:only-of-type {\n",
       "        vertical-align: middle;\n",
       "    }\n",
       "\n",
       "    .dataframe tbody tr th {\n",
       "        vertical-align: top;\n",
       "    }\n",
       "\n",
       "    .dataframe thead th {\n",
       "        text-align: right;\n",
       "    }\n",
       "</style>\n",
       "<table border=\"1\" class=\"dataframe\">\n",
       "  <thead>\n",
       "    <tr style=\"text-align: right;\">\n",
       "      <th></th>\n",
       "      <th>day</th>\n",
       "      <th>sales_prediction</th>\n",
       "    </tr>\n",
       "  </thead>\n",
       "  <tbody>\n",
       "    <tr>\n",
       "      <th>0</th>\n",
       "      <td>1</td>\n",
       "      <td>400</td>\n",
       "    </tr>\n",
       "    <tr>\n",
       "      <th>1</th>\n",
       "      <td>2</td>\n",
       "      <td>100</td>\n",
       "    </tr>\n",
       "    <tr>\n",
       "      <th>2</th>\n",
       "      <td>3</td>\n",
       "      <td>3650</td>\n",
       "    </tr>\n",
       "    <tr>\n",
       "      <th>3</th>\n",
       "      <td>4</td>\n",
       "      <td>4010</td>\n",
       "    </tr>\n",
       "    <tr>\n",
       "      <th>4</th>\n",
       "      <td>5</td>\n",
       "      <td>4900</td>\n",
       "    </tr>\n",
       "  </tbody>\n",
       "</table>\n",
       "</div>"
      ],
      "text/plain": [
       "   day  sales_prediction\n",
       "0    1               400\n",
       "1    2               100\n",
       "2    3              3650\n",
       "3    4              4010\n",
       "4    5              4900"
      ]
     },
     "execution_count": 10,
     "metadata": {},
     "output_type": "execute_result"
    }
   ],
   "source": [
    "# Days number and sales prediction\n",
    "days = [1, 2, 3, 4, 5, 6, 7]\n",
    "sales_pred = [400, 100, 3650, 4010, 4900, 7650, 9500]\n",
    "\n",
    "# Creating DataFrame\n",
    "df1 = pd.DataFrame([days, sales_pred]).T\n",
    "df1.rename(columns={0: 'day', 1:'sales_prediction'}, inplace=True)\n",
    "df1.head()"
   ]
  },
  {
   "cell_type": "code",
   "execution_count": null,
   "id": "6c8ce4f6",
   "metadata": {},
   "outputs": [],
   "source": [
    "df1['discount'] = df1.apply(lambda x: if x['sales_prediction'] < x['day'] * 1000, )"
   ]
  },
  {
   "cell_type": "code",
   "execution_count": 23,
   "id": "a40c5496",
   "metadata": {
    "ExecuteTime": {
     "end_time": "2023-02-16T04:24:19.312248Z",
     "start_time": "2023-02-16T04:24:19.301259Z"
    }
   },
   "outputs": [
    {
     "name": "stdout",
     "output_type": "stream",
     "text": [
      "0.1\n",
      "0.1\n",
      "None\n",
      "None\n",
      "None\n",
      "None\n",
      "None\n"
     ]
    }
   ],
   "source": [
    "for index, row in df1.iterrows():\n",
    "    discount_base = 0.1\n",
    "    orders_base = 1000\n",
    "    \n",
    "    if row['sales_prediction'] < orders_base:\n",
    "        print(discount_base)\n",
    "        \n",
    "    else:\n",
    "        print(None)"
   ]
  },
  {
   "cell_type": "code",
   "execution_count": 22,
   "id": "3fe60c21",
   "metadata": {
    "ExecuteTime": {
     "end_time": "2023-02-16T04:23:56.973118Z",
     "start_time": "2023-02-16T04:23:56.953018Z"
    }
   },
   "outputs": [
    {
     "data": {
      "text/html": [
       "<div>\n",
       "<style scoped>\n",
       "    .dataframe tbody tr th:only-of-type {\n",
       "        vertical-align: middle;\n",
       "    }\n",
       "\n",
       "    .dataframe tbody tr th {\n",
       "        vertical-align: top;\n",
       "    }\n",
       "\n",
       "    .dataframe thead th {\n",
       "        text-align: right;\n",
       "    }\n",
       "</style>\n",
       "<table border=\"1\" class=\"dataframe\">\n",
       "  <thead>\n",
       "    <tr style=\"text-align: right;\">\n",
       "      <th></th>\n",
       "      <th>day</th>\n",
       "      <th>sales_prediction</th>\n",
       "      <th>discount</th>\n",
       "    </tr>\n",
       "  </thead>\n",
       "  <tbody>\n",
       "    <tr>\n",
       "      <th>0</th>\n",
       "      <td>1</td>\n",
       "      <td>400</td>\n",
       "      <td>1000</td>\n",
       "    </tr>\n",
       "    <tr>\n",
       "      <th>1</th>\n",
       "      <td>2</td>\n",
       "      <td>100</td>\n",
       "      <td>1000</td>\n",
       "    </tr>\n",
       "    <tr>\n",
       "      <th>2</th>\n",
       "      <td>3</td>\n",
       "      <td>3650</td>\n",
       "      <td>1000</td>\n",
       "    </tr>\n",
       "    <tr>\n",
       "      <th>3</th>\n",
       "      <td>4</td>\n",
       "      <td>4010</td>\n",
       "      <td>1000</td>\n",
       "    </tr>\n",
       "    <tr>\n",
       "      <th>4</th>\n",
       "      <td>5</td>\n",
       "      <td>4900</td>\n",
       "      <td>1000</td>\n",
       "    </tr>\n",
       "    <tr>\n",
       "      <th>5</th>\n",
       "      <td>6</td>\n",
       "      <td>7650</td>\n",
       "      <td>1000</td>\n",
       "    </tr>\n",
       "    <tr>\n",
       "      <th>6</th>\n",
       "      <td>7</td>\n",
       "      <td>9500</td>\n",
       "      <td>1000</td>\n",
       "    </tr>\n",
       "  </tbody>\n",
       "</table>\n",
       "</div>"
      ],
      "text/plain": [
       "   day  sales_prediction  discount\n",
       "0    1               400      1000\n",
       "1    2               100      1000\n",
       "2    3              3650      1000\n",
       "3    4              4010      1000\n",
       "4    5              4900      1000\n",
       "5    6              7650      1000\n",
       "6    7              9500      1000"
      ]
     },
     "execution_count": 22,
     "metadata": {},
     "output_type": "execute_result"
    }
   ],
   "source": [
    "df1"
   ]
  },
  {
   "cell_type": "code",
   "execution_count": null,
   "id": "739fe0f4",
   "metadata": {},
   "outputs": [],
   "source": []
  }
 ],
 "metadata": {
  "kernelspec": {
   "display_name": "Python 3 (ipykernel)",
   "language": "python",
   "name": "python3"
  },
  "language_info": {
   "codemirror_mode": {
    "name": "ipython",
    "version": 3
   },
   "file_extension": ".py",
   "mimetype": "text/x-python",
   "name": "python",
   "nbconvert_exporter": "python",
   "pygments_lexer": "ipython3",
   "version": "3.10.6"
  }
 },
 "nbformat": 4,
 "nbformat_minor": 5
}
