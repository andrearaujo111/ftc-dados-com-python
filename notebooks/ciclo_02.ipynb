{
 "cells": [
  {
   "cell_type": "markdown",
   "id": "c51e8d29",
   "metadata": {},
   "source": [
    "# 1. Imports"
   ]
  },
  {
   "cell_type": "code",
   "execution_count": 1,
   "id": "80f9f2b5",
   "metadata": {
    "ExecuteTime": {
     "end_time": "2023-02-16T04:16:53.625193Z",
     "start_time": "2023-02-16T04:16:52.916154Z"
    }
   },
   "outputs": [
    {
     "name": "stderr",
     "output_type": "stream",
     "text": [
      "C:\\Users\\andre\\AppData\\Local\\Temp\\ipykernel_4192\\4080736814.py:1: DeprecationWarning: \n",
      "Pyarrow will become a required dependency of pandas in the next major release of pandas (pandas 3.0),\n",
      "(to allow more performant data types, such as the Arrow string type, and better interoperability with other libraries)\n",
      "but was not found to be installed on your system.\n",
      "If this would cause problems for you,\n",
      "please provide us feedback at https://github.com/pandas-dev/pandas/issues/54466\n",
      "        \n",
      "  import pandas as pd\n"
     ]
    }
   ],
   "source": [
    "import pandas as pd"
   ]
  },
  {
   "cell_type": "markdown",
   "id": "c1ef9be2",
   "metadata": {},
   "source": [
    "# 2. Notes"
   ]
  },
  {
   "cell_type": "markdown",
   "id": "20499269",
   "metadata": {},
   "source": [
    "## 2.1 Business Problem"
   ]
  },
  {
   "cell_type": "markdown",
   "id": "8425d0f1-1752-46dd-b797-5c082708279b",
   "metadata": {},
   "source": [
    "A restaurant needs to plan discounts for burguers on the black friday week. Usually, the discounts are progressive, starting at 10% in the 1st day, up until 70% in the last day. The discount progression depends on the number of daily. predicted orders \n",
    "\n",
    "The marketing team set the discount business rule. In the 1st day, the discount is 10% in any burguer if they have 1k orders. To any new order, the discount raises 1% percent. For example, if they have a prediction for 500 orders, the discount is 10%. In case the prediction is 1100, the discount it will be 11%.\n",
    "\n",
    "In the 2nd day, the base discount is 20%. If they have up until 2000 orders and to any new order, the discount raises 1%.\n",
    "\n",
    "This logic applies intil the 7th day, the last day of the promotion.\n",
    "\n",
    "We have a set with the day index and the prediction for the number of orders and out goal is to define the percentage of discount applied to that day."
   ]
  },
  {
   "cell_type": "markdown",
   "id": "9e973515",
   "metadata": {},
   "source": [
    "# 2. Problem Solving "
   ]
  },
  {
   "cell_type": "code",
   "execution_count": 2,
   "id": "90332557",
   "metadata": {
    "ExecuteTime": {
     "end_time": "2023-02-16T04:19:29.788956Z",
     "start_time": "2023-02-16T04:19:29.759945Z"
    }
   },
   "outputs": [
    {
     "data": {
      "text/html": [
       "<div>\n",
       "<style scoped>\n",
       "    .dataframe tbody tr th:only-of-type {\n",
       "        vertical-align: middle;\n",
       "    }\n",
       "\n",
       "    .dataframe tbody tr th {\n",
       "        vertical-align: top;\n",
       "    }\n",
       "\n",
       "    .dataframe thead th {\n",
       "        text-align: right;\n",
       "    }\n",
       "</style>\n",
       "<table border=\"1\" class=\"dataframe\">\n",
       "  <thead>\n",
       "    <tr style=\"text-align: right;\">\n",
       "      <th></th>\n",
       "      <th>day</th>\n",
       "      <th>sales_prediction</th>\n",
       "    </tr>\n",
       "  </thead>\n",
       "  <tbody>\n",
       "    <tr>\n",
       "      <th>0</th>\n",
       "      <td>1</td>\n",
       "      <td>400</td>\n",
       "    </tr>\n",
       "    <tr>\n",
       "      <th>1</th>\n",
       "      <td>2</td>\n",
       "      <td>100</td>\n",
       "    </tr>\n",
       "    <tr>\n",
       "      <th>2</th>\n",
       "      <td>3</td>\n",
       "      <td>3650</td>\n",
       "    </tr>\n",
       "    <tr>\n",
       "      <th>3</th>\n",
       "      <td>4</td>\n",
       "      <td>4010</td>\n",
       "    </tr>\n",
       "    <tr>\n",
       "      <th>4</th>\n",
       "      <td>5</td>\n",
       "      <td>4900</td>\n",
       "    </tr>\n",
       "  </tbody>\n",
       "</table>\n",
       "</div>"
      ],
      "text/plain": [
       "   day  sales_prediction\n",
       "0    1               400\n",
       "1    2               100\n",
       "2    3              3650\n",
       "3    4              4010\n",
       "4    5              4900"
      ]
     },
     "execution_count": 2,
     "metadata": {},
     "output_type": "execute_result"
    }
   ],
   "source": [
    "# Days number and sales prediction\n",
    "days = [i+1 for i in range(7)]\n",
    "sales_pred = [400, 100, 3650, 4010, 4900, 7650, 9500]\n",
    "\n",
    "# Creating DataFrame\n",
    "df1 = pd.DataFrame([days, sales_pred]).T\n",
    "df1.rename(columns={0: 'day', 1:'sales_prediction'}, inplace=True)\n",
    "df1.head()"
   ]
  },
  {
   "cell_type": "code",
   "execution_count": 3,
   "id": "16dabc63-2f91-4b9d-a849-84bce1443354",
   "metadata": {},
   "outputs": [],
   "source": [
    "n_days = 7\n",
    "i = 0\n",
    "discounts = []\n",
    "n_orders = 1000\n",
    "\n",
    "while i+1 < n_days + 1:\n",
    "\n",
    "    if sales_pred[i] <= n_orders:\n",
    "        discount = days[i] * 0.1\n",
    "\n",
    "    else:\n",
    "        discount = (((sales_pred[i] - n_orders)/100)/100)\n",
    "\n",
    "    discounts.append(discount)\n",
    "\n",
    "    discounts = [0.7 if i > 0.7 else i for i in discounts]\n",
    "\n",
    "    i += 1"
   ]
  },
  {
   "cell_type": "code",
   "execution_count": 4,
   "id": "f95c86ee-e779-439f-8ccc-f179bfa4adab",
   "metadata": {},
   "outputs": [
    {
     "data": {
      "text/plain": [
       "[0.1, 0.2, 0.265, 0.301, 0.39, 0.665, 0.7]"
      ]
     },
     "execution_count": 4,
     "metadata": {},
     "output_type": "execute_result"
    }
   ],
   "source": [
    "discounts"
   ]
  },
  {
   "cell_type": "code",
   "execution_count": 5,
   "id": "63ffbe23-d26f-4231-98fa-f579fd3c6104",
   "metadata": {},
   "outputs": [
    {
     "data": {
      "text/html": [
       "<div>\n",
       "<style scoped>\n",
       "    .dataframe tbody tr th:only-of-type {\n",
       "        vertical-align: middle;\n",
       "    }\n",
       "\n",
       "    .dataframe tbody tr th {\n",
       "        vertical-align: top;\n",
       "    }\n",
       "\n",
       "    .dataframe thead th {\n",
       "        text-align: right;\n",
       "    }\n",
       "</style>\n",
       "<table border=\"1\" class=\"dataframe\">\n",
       "  <thead>\n",
       "    <tr style=\"text-align: right;\">\n",
       "      <th></th>\n",
       "      <th>day</th>\n",
       "      <th>sales_prediction</th>\n",
       "      <th>discount</th>\n",
       "    </tr>\n",
       "  </thead>\n",
       "  <tbody>\n",
       "    <tr>\n",
       "      <th>0</th>\n",
       "      <td>1</td>\n",
       "      <td>400</td>\n",
       "      <td>0.100</td>\n",
       "    </tr>\n",
       "    <tr>\n",
       "      <th>1</th>\n",
       "      <td>2</td>\n",
       "      <td>100</td>\n",
       "      <td>0.200</td>\n",
       "    </tr>\n",
       "    <tr>\n",
       "      <th>2</th>\n",
       "      <td>3</td>\n",
       "      <td>3650</td>\n",
       "      <td>0.265</td>\n",
       "    </tr>\n",
       "    <tr>\n",
       "      <th>3</th>\n",
       "      <td>4</td>\n",
       "      <td>4010</td>\n",
       "      <td>0.301</td>\n",
       "    </tr>\n",
       "    <tr>\n",
       "      <th>4</th>\n",
       "      <td>5</td>\n",
       "      <td>4900</td>\n",
       "      <td>0.390</td>\n",
       "    </tr>\n",
       "    <tr>\n",
       "      <th>5</th>\n",
       "      <td>6</td>\n",
       "      <td>7650</td>\n",
       "      <td>0.665</td>\n",
       "    </tr>\n",
       "    <tr>\n",
       "      <th>6</th>\n",
       "      <td>7</td>\n",
       "      <td>9500</td>\n",
       "      <td>0.700</td>\n",
       "    </tr>\n",
       "  </tbody>\n",
       "</table>\n",
       "</div>"
      ],
      "text/plain": [
       "   day  sales_prediction  discount\n",
       "0    1               400     0.100\n",
       "1    2               100     0.200\n",
       "2    3              3650     0.265\n",
       "3    4              4010     0.301\n",
       "4    5              4900     0.390\n",
       "5    6              7650     0.665\n",
       "6    7              9500     0.700"
      ]
     },
     "execution_count": 5,
     "metadata": {},
     "output_type": "execute_result"
    }
   ],
   "source": [
    "df1['discount'] = discounts\n",
    "df1"
   ]
  },
  {
   "cell_type": "code",
   "execution_count": null,
   "id": "6814efe4-062d-4db7-90d9-1e6fe6245bfb",
   "metadata": {},
   "outputs": [],
   "source": []
  }
 ],
 "metadata": {
  "kernelspec": {
   "display_name": "Python 3 (ipykernel)",
   "language": "python",
   "name": "python3"
  },
  "language_info": {
   "codemirror_mode": {
    "name": "ipython",
    "version": 3
   },
   "file_extension": ".py",
   "mimetype": "text/x-python",
   "name": "python",
   "nbconvert_exporter": "python",
   "pygments_lexer": "ipython3",
   "version": "3.12.1"
  },
  "widgets": {
   "application/vnd.jupyter.widget-state+json": {
    "state": {},
    "version_major": 2,
    "version_minor": 0
   }
  }
 },
 "nbformat": 4,
 "nbformat_minor": 5
}
